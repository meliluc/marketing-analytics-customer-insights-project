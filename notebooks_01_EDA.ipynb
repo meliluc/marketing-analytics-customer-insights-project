{
  "nbformat": 4,
  "nbformat_minor": 0,
  "metadata": {
    "colab": {
      "provenance": [],
      "authorship_tag": "ABX9TyO9sDECR9GwerqR1MmCO5qY",
      "include_colab_link": true
    },
    "kernelspec": {
      "name": "python3",
      "display_name": "Python 3"
    },
    "language_info": {
      "name": "python"
    }
  },
  "cells": [
    {
      "cell_type": "markdown",
      "metadata": {
        "id": "view-in-github",
        "colab_type": "text"
      },
      "source": [
        "<a href=\"https://colab.research.google.com/github/meliluc/marketing-analytics-customer-insights-project/blob/main/notebooks_01_EDA.ipynb\" target=\"_parent\"><img src=\"https://colab.research.google.com/assets/colab-badge.svg\" alt=\"Open In Colab\"/></a>"
      ]
    },
    {
      "cell_type": "markdown",
      "source": [
        "# 01 - Exploratory Data Analysis (EDA)\n",
        "\n",
        "## Objetivos\n",
        "- Explorar el dataset de campañas de marketing\n",
        "- Detectar problemas de calidad (nulos, duplicados, outliers)\n",
        "- Crear variables derivadas (CPA, CTR, ROI, etc.)\n",
        "- Generar dataset limpio para posteriores análisis, ML y dashboard BI\n",
        "\n"
      ],
      "metadata": {
        "id": "479hXFuORwSh"
      }
    },
    {
      "cell_type": "code",
      "source": [
        "from google.colab import drive\n",
        "drive.mount('/content/drive')\n",
        "\n",
        "import pandas as pd\n",
        "path = \"/content/drive/MyDrive/marketing-analytics-customer-insights/data/raw/marketing_campaign_performance.csv\"\n",
        "df = pd.read_csv(path)"
      ],
      "metadata": {
        "colab": {
          "base_uri": "https://localhost:8080/"
        },
        "id": "vtYa1D33RxXG",
        "outputId": "e83b39d6-782e-40f9-e775-d5087d96664a"
      },
      "execution_count": 2,
      "outputs": [
        {
          "output_type": "stream",
          "name": "stdout",
          "text": [
            "Drive already mounted at /content/drive; to attempt to forcibly remount, call drive.mount(\"/content/drive\", force_remount=True).\n"
          ]
        }
      ]
    }
  ]
}